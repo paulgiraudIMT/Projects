{
 "cells": [
  {
   "cell_type": "markdown",
   "metadata": {},
   "source": [
    "# Exercise 2: Bias-variance trade-off and resampling techniques (score 15 points)\n",
    "\n",
    "Our aim here is to study the bias-variance trade-off by implementing the **bootstrap** resampling technique.\n",
    "\n",
    "With a code which does OLS and includes resampling techniques, \n",
    "we will now discuss the bias-variance trade-off in the context of\n",
    "continuous predictions such as regression. However, many of the\n",
    "intuitions and ideas discussed here also carry over to classification\n",
    "tasks and basically all Machine Learning algorithms. \n",
    "\n",
    "Before you perform an analysis of the bias-variance trade-off on your test data, make\n",
    "first a figure similar to Fig. 2.11 of Hastie, Tibshirani, and\n",
    "Friedman. Figure 2.11 of this reference displays only the test and training MSEs. The test MSE can be used to \n",
    "indicate possible regions of low/high bias and variance. You will most likely not get an\n",
    "equally smooth curve!\n",
    "\n",
    "With this result we move on to the bias-variance trade-off analysis.\n",
    "\n",
    "Consider a\n",
    "dataset $\\mathcal{L}$ consisting of the data\n",
    "$\\mathbf{X}_\\mathcal{L}=\\{(y_j, \\boldsymbol{x}_j), j=0\\ldots n-1\\}$.\n",
    "\n",
    "Let us assume that the true data is generated from a noisy model"
   ]
  },
  {
   "cell_type": "markdown",
   "metadata": {},
   "source": [
    "$$\n",
    "\\boldsymbol{y}=f(\\boldsymbol{x}) + \\boldsymbol{\\epsilon}.\n",
    "$$"
   ]
  },
  {
   "cell_type": "markdown",
   "metadata": {},
   "source": [
    "Here $\\epsilon$ is normally distributed with mean zero and standard\n",
    "deviation $\\sigma^2$.\n",
    "\n",
    "In our derivation of the ordinary least squares method we defined then\n",
    "an approximation to the function $f$ in terms of the parameters\n",
    "$\\boldsymbol{\\beta}$ and the design matrix $\\boldsymbol{X}$ which embody our model,\n",
    "that is $\\boldsymbol{\\tilde{y}}=\\boldsymbol{X}\\boldsymbol{\\beta}$.\n",
    "\n",
    "The parameters $\\boldsymbol{\\beta}$ are in turn found by optimizing the means\n",
    "squared error via the so-called cost function"
   ]
  },
  {
   "cell_type": "markdown",
   "metadata": {},
   "source": [
    "$$\n",
    "C(\\boldsymbol{X},\\boldsymbol{\\beta}) =\\frac{1}{n}\\sum_{i=0}^{n-1}(y_i-\\tilde{y}_i)^2=\\mathbb{E}\\left[(\\boldsymbol{y}-\\boldsymbol{\\tilde{y}})^2\\right].\n",
    "$$"
   ]
  },
  {
   "cell_type": "markdown",
   "metadata": {},
   "source": [
    "Here the expected value $\\mathbb{E}$ is the sample value. \n",
    "\n",
    "Show that you can rewrite  this as"
   ]
  },
  {
   "cell_type": "markdown",
   "metadata": {},
   "source": [
    "$$\n",
    "\\mathbb{E}\\left[(\\boldsymbol{y}-\\boldsymbol{\\tilde{y}})^2\\right]=\\frac{1}{n}\\sum_i(f_i-\\mathbb{E}\\left[\\boldsymbol{\\tilde{y}}\\right])^2+\\frac{1}{n}\\sum_i(\\tilde{y}_i-\\mathbb{E}\\left[\\boldsymbol{\\tilde{y}}\\right])^2+\\sigma^2.\n",
    "$$"
   ]
  },
  {
   "cell_type": "markdown",
   "metadata": {},
   "source": [
    "Explain what the terms mean, which one is the bias and which one is\n",
    "the variance and discuss their interpretations.\n",
    "\n",
    "Perform then a bias-variance analysis of the Franke function by\n",
    "studying the MSE value as function of the complexity of your model.\n",
    "\n",
    "Discuss the bias and variance trade-off as function\n",
    "of your model complexity (the degree of the polynomial) and the number\n",
    "of data points, and possibly also your training and test data using the **bootstrap** resampling method.\n",
    "\n",
    "Note also that when you calculate the bias, in all applications you don't know the function values $f_i$. You would hence replace them with the actual data points $y_i$."
   ]
  },
  {
   "cell_type": "code",
   "execution_count": 2,
   "metadata": {},
   "outputs": [],
   "source": [
    "import matplotlib.pyplot as plt\n",
    "import numpy as np\n",
    "from sklearn.utils import resample\n",
    "from sklearn.model_selection import  train_test_split\n",
    "\n",
    "\n",
    "def FrankeFunction(x,y):\n",
    "    term1 = 0.75*np.exp(-(0.25*(9*x-2)**2) - 0.25*((9*y-2)**2))\n",
    "    term2 = 0.75*np.exp(-((9*x+1)**2)/49.0 - 0.1*(9*y+1))\n",
    "    term3 = 0.5*np.exp(-(9*x-7)**2/4.0 - 0.25*((9*y-3)**2))\n",
    "    term4 = -0.2*np.exp(-(9*x-4)**2 - (9*y-7)**2)\n",
    "    return term1 + term2 + term3 + term4\n",
    "\n",
    "def FrankeFunctionWithNoise(x,y):\n",
    "    term1 = 0.75*np.exp(-(0.25*(9*x-2)**2) - 0.25*((9*y-2)**2))\n",
    "    term2 = 0.75*np.exp(-((9*x+1)**2)/49.0 - 0.1*(9*y+1))\n",
    "    term3 = 0.5*np.exp(-(9*x-7)**2/4.0 - 0.25*((9*y-3)**2))\n",
    "    term4 = -0.2*np.exp(-(9*x-4)**2 - (9*y-7)**2)\n",
    "    noise = np.random.normal(0, 0.1, len(x)*len(x))\n",
    "    noise = noise.reshape(len(x),len(x))\n",
    "    return term1 + term2 + term3 + term4 + noise\n",
    "\n",
    "\n",
    "def create_X(x, y, n ):\n",
    "    if len(x.shape) > 1:\n",
    "        x = np.ravel(x)\n",
    "        y = np.ravel(y)\n",
    "\n",
    "    N = len(x)\n",
    "    l = int((n+1)*(n+2)/2) # Number of elements in beta\n",
    "    X = np.ones((N,l))\n",
    "\n",
    "    for i in range(1,n+1):\n",
    "        q = int((i)*(i+1)/2)\n",
    "        for k in range(i+1):\n",
    "            X[:,q+k] = (x**(i-k))*(y**k)\n",
    "    return X\n",
    "\n",
    "def R2(y_data, y_model):\n",
    "    return 1 - np.sum((y_data - y_model) ** 2) / np.sum((y_data - np.mean(y_data)) ** 2)\n"
   ]
  },
  {
   "cell_type": "code",
   "execution_count": 5,
   "metadata": {},
   "outputs": [
    {
     "name": "stdout",
     "output_type": "stream",
     "text": [
      "Polynomial degree: 1\n",
      "Error: 0.02912966426729353\n",
      "Bias^2: 0.0288059690845891\n",
      "Var: 0.0003236951827044269\n",
      "0.02912966426729353 >= 0.0288059690845891 + 0.0003236951827044269 = 0.029129664267293527\n",
      "\n",
      "\n",
      "\n",
      "Polynomial degree: 2\n",
      "Error: 0.02580364465306615\n",
      "Bias^2: 0.025313314662867143\n",
      "Var: 0.000490329990199007\n",
      "0.02580364465306615 >= 0.025313314662867143 + 0.000490329990199007 = 0.02580364465306615\n",
      "\n",
      "\n",
      "\n",
      "Polynomial degree: 3\n",
      "Error: 0.01740449126387572\n",
      "Bias^2: 0.016855154654259477\n",
      "Var: 0.0005493366096162442\n",
      "0.01740449126387572 >= 0.016855154654259477 + 0.0005493366096162442 = 0.01740449126387572\n",
      "\n",
      "\n",
      "\n",
      "Polynomial degree: 4\n",
      "Error: 0.01854999973676059\n",
      "Bias^2: 0.01762476718718841\n",
      "Var: 0.000925232549572182\n",
      "0.01854999973676059 >= 0.01762476718718841 + 0.000925232549572182 = 0.01854999973676059\n",
      "\n",
      "\n",
      "\n",
      "Polynomial degree: 5\n",
      "Error: 0.013940883645105451\n",
      "Bias^2: 0.012716998346907756\n",
      "Var: 0.00122388529819769\n",
      "0.013940883645105451 >= 0.012716998346907756 + 0.00122388529819769 = 0.013940883645105446\n",
      "\n",
      "\n",
      "\n",
      "Polynomial degree: 6\n",
      "Error: 0.012967998708319639\n",
      "Bias^2: 0.011193441434873152\n",
      "Var: 0.0017745572734464833\n",
      "0.012967998708319639 >= 0.011193441434873152 + 0.0017745572734464833 = 0.012967998708319635\n",
      "\n",
      "\n",
      "\n",
      "Polynomial degree: 7\n",
      "Error: 0.014259902402906779\n",
      "Bias^2: 0.011310620460524163\n",
      "Var: 0.0029492819423826188\n",
      "0.014259902402906779 >= 0.011310620460524163 + 0.0029492819423826188 = 0.014259902402906782\n",
      "\n",
      "\n",
      "\n",
      "Polynomial degree: 8\n",
      "Error: 0.013885718627610174\n",
      "Bias^2: 0.01178321883574278\n",
      "Var: 0.0021024997918673966\n",
      "0.013885718627610174 >= 0.01178321883574278 + 0.0021024997918673966 = 0.013885718627610177\n",
      "\n",
      "\n",
      "\n",
      "Polynomial degree: 9\n",
      "Error: 0.02075764408871949\n",
      "Bias^2: 0.01386997808903967\n",
      "Var: 0.006887665999679819\n",
      "0.02075764408871949 >= 0.01386997808903967 + 0.006887665999679819 = 0.02075764408871949\n",
      "\n",
      "\n",
      "\n",
      "Polynomial degree: 10\n",
      "Error: 0.03516942994352214\n",
      "Bias^2: 0.013055102217158786\n",
      "Var: 0.022114327726363348\n",
      "0.03516942994352214 >= 0.013055102217158786 + 0.022114327726363348 = 0.03516942994352214\n",
      "\n",
      "\n",
      "\n",
      "Polynomial degree: 11\n",
      "Error: 0.03589413728918362\n",
      "Bias^2: 0.018852460861373602\n",
      "Var: 0.017041676427810022\n",
      "0.03589413728918362 >= 0.018852460861373602 + 0.017041676427810022 = 0.03589413728918363\n",
      "\n",
      "\n",
      "\n",
      "Polynomial degree: 12\n",
      "Error: 0.06319454983940331\n",
      "Bias^2: 0.024318577223680797\n",
      "Var: 0.038875972615722516\n",
      "0.06319454983940331 >= 0.024318577223680797 + 0.038875972615722516 = 0.06319454983940331\n",
      "\n",
      "\n",
      "\n"
     ]
    },
    {
     "data": {
      "image/png": "[encoded data removed]",
      "text/plain": [
       "<Figure size 432x288 with 1 Axes>"
      ]
     },
     "metadata": {
      "needs_background": "light"
     },
     "output_type": "display_data"
    },
    {
     "data": {
      "image/png": "[encoded data removed]",
      "text/plain": [
       "<Figure size 432x288 with 1 Axes>"
      ]
     },
     "metadata": {
      "needs_background": "light"
     },
     "output_type": "display_data"
    },
    {
     "data": {
      "image/png": "[encoded data removed]",
      "text/plain": [
       "<Figure size 432x288 with 1 Axes>"
      ]
     },
     "metadata": {
      "needs_background": "light"
     },
     "output_type": "display_data"
    }
   ],
   "source": [
    "################# Parameters #################\n",
    "\n",
    "n = 20  #number of data\n",
    "n_bootstraps = 20 #number of boostraps\n",
    "polynomial = 12 #polynomial degree\n",
    "\n",
    "#############################################\n",
    "\n",
    "x = np.linspace(0, 1, n)\n",
    "y = np.linspace(0, 1, n)\n",
    "x, y = np.meshgrid(x, y)\n",
    "z = FrankeFunctionWithNoise(x, y)\n",
    "\n",
    "\n",
    "x_y = np.empty((len(x)*len(x), 2))\n",
    "x_y[:, 0] = x.ravel()\n",
    "x_y[:, 1] = y.ravel()\n",
    "x_y_train, x_y_test, z_train, z_test = train_test_split(x_y, z.ravel(), test_size=0.2)\n",
    "\n",
    "\n",
    "error = np.zeros(polynomial)\n",
    "bias = np.zeros(polynomial)\n",
    "variance = np.zeros(polynomial)\n",
    "MSE = np.zeros(polynomial)\n",
    "\n",
    "\n",
    "polydegree = np.zeros(polynomial)\n",
    "train_error = np.zeros(polynomial)\n",
    "\n",
    "for degree in range(polynomial):\n",
    "\n",
    "    pred_test = np.empty((z_test.shape[0], n_bootstraps))\n",
    "    pred_train = np.empty((z_train.shape[0], n_bootstraps))\n",
    "\n",
    "    for i in range(n_bootstraps):\n",
    "\n",
    "        x_y_, z_ = resample(x_y_train, z_train)\n",
    "        X_train = create_X(x_y_[:, 0], x_y_[:, 1], degree + 1)\n",
    "        X_test = create_X(x_y_test[:, 0], x_y_test[:, 1], degree + 1)\n",
    "        beta = np.linalg.pinv(X_train.T.dot(X_train)).dot(X_train.T).dot(z_)\n",
    "        pred_test[:, i] = X_test @ beta\n",
    "        pred_train[:, i] = X_train @ beta\n",
    "\n",
    "    polydegree[degree] = degree\n",
    "    error[degree] = np.mean( np.mean((z_test.reshape(z_test.shape[0], 1) - pred_test)**2, axis=1, keepdims=True) )\n",
    "    bias[degree] = np.mean((z_test.reshape(z_test.shape[0], 1) - np.mean(pred_test, axis=1, keepdims=True)) ** 2)\n",
    "    variance[degree] = np.mean(np.var(pred_test, axis=1, keepdims=True))\n",
    "    MSE[degree] = np.mean( np.mean((z_train.reshape(z_train.shape[0], 1) - pred_train)**2, axis=1, keepdims=True) )\n",
    "\n",
    "    print('Polynomial degree:', degree + 1)\n",
    "    print('Error:', error[degree])\n",
    "    print('Bias^2:', bias[degree])\n",
    "    print('Var:', variance[degree])\n",
    "    print('{} >= {} + {} = {}'.format(error[degree], bias[degree], variance[degree], bias[degree]+variance[degree]))\n",
    "    print(\"\\n\\n\")\n",
    "\n",
    "\n",
    "\n",
    "\n",
    "plt.figure(\"Bias-variance trade-off \")\n",
    "plt.plot(polydegree, error, label='Error')\n",
    "plt.plot(polydegree, bias, label='bias')\n",
    "plt.plot(polydegree, variance, label='Variance')\n",
    "plt.legend()\n",
    "plt.grid()\n",
    "\n",
    "plt.figure(\"MSE\")\n",
    "plt.plot(polydegree, error, label='Mean_MSE_test')\n",
    "plt.plot(polydegree, MSE, label='Mean_MSE_train')\n",
    "plt.legend()\n",
    "plt.grid()\n",
    "\n",
    "plt.figure(\"Bias + variance\")\n",
    "plt.plot(polydegree, error, label='Error')\n",
    "plt.plot(polydegree, bias + variance, '--', label='bias + variance')\n",
    "plt.legend()\n",
    "plt.grid()\n",
    "\n",
    "plt.show()"
   ]
  },
  {
   "cell_type": "code",
   "execution_count": null,
   "metadata": {},
   "outputs": [],
   "source": []
  },
  {
   "cell_type": "raw",
   "metadata": {},
   "source": []
  },
  {
   "cell_type": "code",
   "execution_count": null,
   "metadata": {},
   "outputs": [],
   "source": []
  }
 ],
 "metadata": {
  "kernelspec": {
   "display_name": "Python 3",
   "language": "python",
   "name": "python3"
  },
  "language_info": {
   "codemirror_mode": {
    "name": "ipython",
    "version": 3
   },
   "file_extension": ".py",
   "mimetype": "text/x-python",
   "name": "python",
   "nbconvert_exporter": "python",
   "pygments_lexer": "ipython3",
   "version": "3.8.5"
  }
 },
 "nbformat": 4,
 "nbformat_minor": 4
}
